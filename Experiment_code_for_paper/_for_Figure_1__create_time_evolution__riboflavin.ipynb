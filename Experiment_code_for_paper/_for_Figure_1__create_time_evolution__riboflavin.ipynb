{
 "cells": [
  {
   "cell_type": "code",
   "execution_count": 1,
   "metadata": {},
   "outputs": [
    {
     "data": {
      "text/html": [
       "<style>\n",
       "    div#notebook-container    { width: 95%; }\n",
       "    div#menubar-container     { width: 65%; }\n",
       "    div#maintoolbar-container { width: 99%; }\n",
       "</style>\n"
      ],
      "text/plain": [
       "<IPython.core.display.HTML object>"
      ]
     },
     "metadata": {},
     "output_type": "display_data"
    }
   ],
   "source": [
    "%%HTML\n",
    "<style>\n",
    "    div#notebook-container    { width: 95%; }\n",
    "    div#menubar-container     { width: 65%; }\n",
    "    div#maintoolbar-container { width: 99%; }\n",
    "</style>\n"
   ]
  },
  {
   "cell_type": "code",
   "execution_count": 2,
   "metadata": {},
   "outputs": [],
   "source": [
    "import sys\n",
    "sys.path.append(\"../\")\n",
    "\n",
    "import pandas as pd\n",
    "import numpy as np\n",
    "import matplotlib.pyplot as plt\n",
    "from sklearn import linear_model\n",
    "from tqdm import tqdm_notebook as tqdm\n",
    "\n",
    "from ampy import utils\n",
    "from ampy import StabilitySelectionVAMPSolver\n",
    "%matplotlib inline"
   ]
  },
  {
   "cell_type": "code",
   "execution_count": 3,
   "metadata": {},
   "outputs": [],
   "source": [
    "np.random.seed(0)"
   ]
  },
  {
   "cell_type": "markdown",
   "metadata": {},
   "source": [
    "# road data"
   ]
  },
  {
   "cell_type": "code",
   "execution_count": 4,
   "metadata": {},
   "outputs": [
    {
     "data": {
      "text/plain": [
       "((71, 4088), (71,))"
      ]
     },
     "execution_count": 4,
     "metadata": {},
     "output_type": "execute_result"
    }
   ],
   "source": [
    "riboflavin_data_A = pd.read_csv(\"./data/riboflavin/X.csv\", header=None)\n",
    "riboflavin_data_y = pd.read_csv(\"./data/riboflavin/y.csv\", header=None)\n",
    "A = np.array(riboflavin_data_A, dtype=np.float64)\n",
    "m, n = A.shape\n",
    "y = np.array(riboflavin_data_y, dtype=np.float64).reshape(A.shape[0], )\n",
    "A -= A.mean(axis=0)\n",
    "A /= A.std(axis=0)\n",
    "y -= y.mean()\n",
    "A.shape, y.shape"
   ]
  },
  {
   "cell_type": "code",
   "execution_count": 5,
   "metadata": {},
   "outputs": [],
   "source": [
    "M, N = A.shape"
   ]
  },
  {
   "cell_type": "markdown",
   "metadata": {},
   "source": [
    "# cross validation"
   ]
  },
  {
   "cell_type": "code",
   "execution_count": 6,
   "metadata": {},
   "outputs": [
    {
     "data": {
      "text/plain": [
       "0.023956316391668977"
      ]
     },
     "execution_count": 6,
     "metadata": {},
     "output_type": "execute_result"
    }
   ],
   "source": [
    "lasso_cv = linear_model.LassoCV(n_jobs=3, n_alphas=100, cv=10, tol=1e-3, max_iter=1e7, fit_intercept=False)\n",
    "lasso_cv.fit(A, y)\n",
    "lasso_cv.alpha_"
   ]
  },
  {
   "cell_type": "markdown",
   "metadata": {},
   "source": [
    "# VAMP "
   ]
  },
  {
   "cell_type": "markdown",
   "metadata": {},
   "source": [
    "## set bootstrap sample size"
   ]
  },
  {
   "cell_type": "code",
   "execution_count": 7,
   "metadata": {},
   "outputs": [
    {
     "data": {
      "text/plain": [
       "0.49295774647887325"
      ]
     },
     "execution_count": 7,
     "metadata": {},
     "output_type": "execute_result"
    }
   ],
   "source": [
    "μ = int(A.shape[0]/2.0)/ A.shape[0]\n",
    "μ"
   ]
  },
  {
   "cell_type": "markdown",
   "metadata": {},
   "source": [
    "## do VAMP"
   ]
  },
  {
   "cell_type": "code",
   "execution_count": 8,
   "metadata": {},
   "outputs": [
    {
     "name": "stdout",
     "output_type": "stream",
     "text": [
      "doesn't converged\n",
      "abs_diff= 5.1348804853625076e-17 \n",
      "abs_diff_v= 1.0367492785564642e-18 \n",
      "iteration num=199\n",
      "### x1 ###\n",
      "self.chi1x_hat 0.189706807276251\n",
      "self.q1x_hat 3.2721465634685725\n",
      "self.chi1x 0.0016611756685856027\n",
      "self.v1x 4.5423475288034924e-05\n",
      "### u1 ###\n",
      "self.chi1u_hat 0.12307876629886531\n",
      "self.q1u_hat 2.689021932833466\n",
      "self.chi1u 0.11775902432231243\n",
      "self.v1u 0.009477636659046197\n",
      "### x2 ###\n",
      "self.chi2x_hat 42563608620.77131\n",
      "self.q2x_hat 42566906674.631805\n",
      "self.chi2x 0.001661175668585603\n",
      "self.v2x 4.542347528803495e-05\n",
      "### u2 ###\n",
      "self.chi2u_hat 0.691548425027312\n",
      "self.q2u_hat 6.440157069315921\n",
      "self.chi2u 0.1177590243223124\n",
      "self.v2u 0.009477636659046194\n",
      "\n",
      "\n"
     ]
    }
   ],
   "source": [
    "# to check the dynamics, we set convergence criterion below the machine epsilon\n",
    "tol = 1e-100  # convergence criterion \n",
    "vamp_solver = StabilitySelectionVAMPSolver(A, y, regularization_strength=lasso_cv.alpha_ * M * np.ones(N), \n",
    "                                           mu=μ, clip_min=1e-12, clip_max=1e12, dumping_coefficient=1.0)\n",
    "\n",
    "_ = vamp_solver.solve(max_iteration=200, tolerance=tol, message=False)  # fit "
   ]
  },
  {
   "cell_type": "markdown",
   "metadata": {},
   "source": [
    "## time evolution"
   ]
  },
  {
   "cell_type": "code",
   "execution_count": 9,
   "metadata": {},
   "outputs": [
    {
     "data": {
      "image/png": "[encoded data removed]",
      "text/plain": [
       "<Figure size 432x288 with 1 Axes>"
      ]
     },
     "metadata": {
      "needs_background": "light"
     },
     "output_type": "display_data"
    }
   ],
   "source": [
    "fig = plt.figure()\n",
    "ax = fig.add_subplot(111)\n",
    "ax.plot(vamp_solver.diff_history, \"o-\", c=\"b\", alpha=0.5)\n",
    "ax.set_yscale(\"log\")\n",
    "ax.set_title(\"time evolution of $\\delta$ (riboflavin)\")\n",
    "ax.set_xlabel(\"$t$\")\n",
    "ax.set_ylabel(\"$\\delta$\")\n",
    "ax.grid()\n",
    "fig.tight_layout()"
   ]
  },
  {
   "cell_type": "markdown",
   "metadata": {},
   "source": [
    "## save time evolution"
   ]
  },
  {
   "cell_type": "code",
   "execution_count": 10,
   "metadata": {},
   "outputs": [],
   "source": [
    "import pickle\n",
    "with open(\"time_evolution_riboflavin.pickle\", \"wb\") as f:\n",
    "    pickle.dump(vamp_solver.diff_history, f, pickle.HIGHEST_PROTOCOL)"
   ]
  }
 ],
 "metadata": {
  "kernelspec": {
   "display_name": "Python 3",
   "language": "python",
   "name": "python3"
  },
  "language_info": {
   "codemirror_mode": {
    "name": "ipython",
    "version": 3
   },
   "file_extension": ".py",
   "mimetype": "text/x-python",
   "name": "python",
   "nbconvert_exporter": "python",
   "pygments_lexer": "ipython3",
   "version": "3.6.7"
  },
  "toc": {
   "base_numbering": 1,
   "nav_menu": {},
   "number_sections": true,
   "sideBar": true,
   "skip_h1_title": false,
   "title_cell": "Table of Contents",
   "title_sidebar": "Contents",
   "toc_cell": false,
   "toc_position": {},
   "toc_section_display": true,
   "toc_window_display": true
  }
 },
 "nbformat": 4,
 "nbformat_minor": 2
}
