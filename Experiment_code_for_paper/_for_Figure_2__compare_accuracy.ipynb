{
 "cells": [
  {
   "cell_type": "code",
   "execution_count": 1,
   "metadata": {},
   "outputs": [
    {
     "data": {
      "text/html": [
       "<style>\n",
       "    div#notebook-container    { width: 95%; }\n",
       "    div#menubar-container     { width: 65%; }\n",
       "    div#maintoolbar-container { width: 99%; }\n",
       "</style>\n"
      ],
      "text/plain": [
       "<IPython.core.display.HTML object>"
      ]
     },
     "metadata": {},
     "output_type": "display_data"
    }
   ],
   "source": [
    "%%HTML\n",
    "<style>\n",
    "    div#notebook-container    { width: 95%; }\n",
    "    div#menubar-container     { width: 65%; }\n",
    "    div#maintoolbar-container { width: 99%; }\n",
    "</style>"
   ]
  },
  {
   "cell_type": "code",
   "execution_count": 2,
   "metadata": {},
   "outputs": [],
   "source": [
    "import csv\n",
    "import sys\n",
    "sys.path.append(\"../\")\n",
    "\n",
    "import numpy as np\n",
    "import pandas as pd\n",
    "from sklearn import linear_model\n",
    "import matplotlib.pyplot as plt\n",
    "from tqdm import tqdm_notebook as tqdm\n",
    "\n",
    "from ampy import StabilitySelectionVAMPSolver\n",
    "from ampy import utils\n",
    "\n",
    "%matplotlib inline\n",
    "\n",
    "plt.rc('text', usetex=True)\n",
    "plt.rc('font', family='serif')"
   ]
  },
  {
   "cell_type": "code",
   "execution_count": 3,
   "metadata": {},
   "outputs": [],
   "source": [
    "np.random.seed(0)"
   ]
  },
  {
   "cell_type": "markdown",
   "metadata": {},
   "source": [
    "# load data"
   ]
  },
  {
   "cell_type": "markdown",
   "metadata": {},
   "source": [
    "## random DCT\n",
    "* α = 0.1, σ = 0.1, N = 4096"
   ]
  },
  {
   "cell_type": "code",
   "execution_count": 4,
   "metadata": {},
   "outputs": [
    {
     "data": {
      "text/plain": [
       "((409, 4096), (409,))"
      ]
     },
     "execution_count": 4,
     "metadata": {},
     "output_type": "execute_result"
    }
   ],
   "source": [
    "random_DCT_data_A = pd.read_csv(\"./data/random_DCT/random_DCT_X_alpha01.csv\", header=None)\n",
    "random_DCT_data_y = pd.read_csv(\"./data/random_DCT/random_DCT_y_alpha01.csv\", header=None)\n",
    "A_dct = np.array(random_DCT_data_A, dtype=np.float64)\n",
    "y_dct = np.array(random_DCT_data_y, dtype=np.float64).reshape(A_dct.shape[0], )\n",
    "\n",
    "A_dct -= A_dct.mean(axis=0)\n",
    "A_dct /= A_dct.std(axis=0)\n",
    "y_dct -= y_dct.mean()\n",
    "\n",
    "A_dct.shape, y_dct.shape"
   ]
  },
  {
   "cell_type": "code",
   "execution_count": 5,
   "metadata": {},
   "outputs": [
    {
     "data": {
      "application/vnd.jupyter.widget-view+json": {
       "model_id": "99f5701452a14ddb9d074ed2734b2302",
       "version_major": 2,
       "version_minor": 0
      },
      "text/plain": [
       "HBox(children=(IntProgress(value=0, max=4096), HTML(value='')))"
      ]
     },
     "metadata": {},
     "output_type": "display_data"
    },
    {
     "name": "stdout",
     "output_type": "stream",
     "text": [
      "\n"
     ]
    }
   ],
   "source": [
    "n_sampe_matlab = 100000\n",
    "lasso_solution_array_dct = np.empty((4096, n_sampe_matlab), dtype=np.float64)\n",
    "with open(\"./data/random_DCT/naive_re-estimation_based_result/matlab_result.csv\") as f:\n",
    "    reader = csv.reader(f, delimiter=\",\")\n",
    "    for row_index, row in tqdm(enumerate(reader), total=4096):\n",
    "        lasso_solution_array_dct[row_index] = row\n",
    "\n",
    "lasso_solution_array_dct = lasso_solution_array_dct.T"
   ]
  },
  {
   "cell_type": "markdown",
   "metadata": {},
   "source": [
    "## riboflavin"
   ]
  },
  {
   "cell_type": "code",
   "execution_count": 6,
   "metadata": {},
   "outputs": [
    {
     "data": {
      "text/plain": [
       "((71, 4088), (71,))"
      ]
     },
     "execution_count": 6,
     "metadata": {},
     "output_type": "execute_result"
    }
   ],
   "source": [
    "riboflavin_data_A = pd.read_csv(\"./data/riboflavin/X.csv\", header=None)\n",
    "riboflavin_data_y = pd.read_csv(\"./data/riboflavin/y.csv\", header=None)\n",
    "A_ribo = np.array(riboflavin_data_A, dtype=np.float64)\n",
    "y_ribo = np.array(riboflavin_data_y, dtype=np.float64).reshape(A_ribo.shape[0], )\n",
    "A_ribo -= A_ribo.mean(axis=0)\n",
    "A_ribo /= A_ribo.std(axis=0)\n",
    "y_ribo -= y_ribo.mean()\n",
    "A_ribo.shape, y_ribo.shape"
   ]
  },
  {
   "cell_type": "code",
   "execution_count": 7,
   "metadata": {},
   "outputs": [
    {
     "data": {
      "application/vnd.jupyter.widget-view+json": {
       "model_id": "526ed8af05de4fe2a1a35246879b4be1",
       "version_major": 2,
       "version_minor": 0
      },
      "text/plain": [
       "HBox(children=(IntProgress(value=0, max=4088), HTML(value='')))"
      ]
     },
     "metadata": {},
     "output_type": "display_data"
    },
    {
     "name": "stdout",
     "output_type": "stream",
     "text": [
      "\n"
     ]
    }
   ],
   "source": [
    "n_sampe_matlab = 100000\n",
    "lasso_solution_array_ribo = np.empty((4088, n_sampe_matlab), dtype=np.float64)\n",
    "with open(\"./data/riboflavin/naive_re-estimation_based_result/matlab_result.csv\") as f:\n",
    "    reader = csv.reader(f, delimiter=\",\")\n",
    "    for row_index, row in tqdm(enumerate(reader), total=4088):\n",
    "        lasso_solution_array_ribo[row_index] = row\n",
    "\n",
    "lasso_solution_array_ribo = lasso_solution_array_ribo.T"
   ]
  },
  {
   "cell_type": "markdown",
   "metadata": {},
   "source": [
    "# choose regularization strength"
   ]
  },
  {
   "cell_type": "markdown",
   "metadata": {},
   "source": [
    "## random DCT"
   ]
  },
  {
   "cell_type": "code",
   "execution_count": 8,
   "metadata": {},
   "outputs": [
    {
     "data": {
      "text/plain": [
       "LassoCV(alphas=None, copy_X=True, cv=10, eps=0.001, fit_intercept=False,\n",
       "    max_iter=10000000.0, n_alphas=50, n_jobs=3, normalize=False,\n",
       "    positive=False, precompute='auto', random_state=None,\n",
       "    selection='cyclic', tol=0.001, verbose=False)"
      ]
     },
     "execution_count": 8,
     "metadata": {},
     "output_type": "execute_result"
    }
   ],
   "source": [
    "lasso_cv_dct = linear_model.LassoCV(n_jobs=3, n_alphas=50, cv=10, tol=1e-3, max_iter=1e7, fit_intercept=False)\n",
    "lasso_cv_dct.fit(A_dct, y_dct)"
   ]
  },
  {
   "cell_type": "code",
   "execution_count": 9,
   "metadata": {},
   "outputs": [
    {
     "data": {
      "text/plain": [
       "0.019965269054807513"
      ]
     },
     "execution_count": 9,
     "metadata": {},
     "output_type": "execute_result"
    }
   ],
   "source": [
    "lasso_cv_dct.alpha_"
   ]
  },
  {
   "cell_type": "markdown",
   "metadata": {},
   "source": [
    "## riboflavin"
   ]
  },
  {
   "cell_type": "code",
   "execution_count": 10,
   "metadata": {},
   "outputs": [
    {
     "data": {
      "text/plain": [
       "LassoCV(alphas=None, copy_X=True, cv=10, eps=0.001, fit_intercept=False,\n",
       "    max_iter=10000000.0, n_alphas=100, n_jobs=3, normalize=False,\n",
       "    positive=False, precompute='auto', random_state=None,\n",
       "    selection='cyclic', tol=0.001, verbose=False)"
      ]
     },
     "execution_count": 10,
     "metadata": {},
     "output_type": "execute_result"
    }
   ],
   "source": [
    "lasso_cv_ribo = linear_model.LassoCV(n_jobs=3, n_alphas=100, cv=10, tol=1e-3, max_iter=1e7, fit_intercept=False)\n",
    "lasso_cv_ribo.fit(A_ribo, y_ribo)"
   ]
  },
  {
   "cell_type": "code",
   "execution_count": 11,
   "metadata": {},
   "outputs": [
    {
     "data": {
      "text/plain": [
       "0.023956316391668977"
      ]
     },
     "execution_count": 11,
     "metadata": {},
     "output_type": "execute_result"
    }
   ],
   "source": [
    "lasso_cv_ribo.alpha_"
   ]
  },
  {
   "cell_type": "markdown",
   "metadata": {},
   "source": [
    "# VAMP"
   ]
  },
  {
   "cell_type": "markdown",
   "metadata": {},
   "source": [
    "## random DCT"
   ]
  },
  {
   "cell_type": "code",
   "execution_count": 12,
   "metadata": {},
   "outputs": [
    {
     "data": {
      "text/plain": [
       "0.49877750611246946"
      ]
     },
     "execution_count": 12,
     "metadata": {},
     "output_type": "execute_result"
    }
   ],
   "source": [
    "μ = int(A_dct.shape[0]/2.0)/ A_dct.shape[0]\n",
    "μ"
   ]
  },
  {
   "cell_type": "code",
   "execution_count": 13,
   "metadata": {
    "scrolled": true
   },
   "outputs": [
    {
     "name": "stdout",
     "output_type": "stream",
     "text": [
      "CPU times: user 2min 28s, sys: 17.2 s, total: 2min 46s\n",
      "Wall time: 1min 6s\n"
     ]
    }
   ],
   "source": [
    "%%time\n",
    "dumping = 1.0\n",
    "tol = 1e-12\n",
    "message=False\n",
    "vamp_solver_dct = StabilitySelectionVAMPSolver(A_dct, y_dct, \n",
    "                                               regularization_strength= lasso_cv_dct.alpha_ * A_dct.shape[0] * np.ones(A_dct.shape[1]), \n",
    "                                               dumping_coefficient=dumping, mu=μ, clip_min=1e-12, clip_max=1e12)\n",
    "\n",
    "hoge = vamp_solver_dct.solve(max_iteration=100, tolerance=tol, message=message)"
   ]
  },
  {
   "cell_type": "code",
   "execution_count": 14,
   "metadata": {},
   "outputs": [
    {
     "data": {
      "image/png": "[encoded data removed]",
      "text/plain": [
       "<Figure size 432x288 with 1 Axes>"
      ]
     },
     "metadata": {
      "needs_background": "light"
     },
     "output_type": "display_data"
    }
   ],
   "source": [
    "fig = plt.figure()\n",
    "ax = fig.add_subplot(111)\n",
    "ax.plot(vamp_solver_dct.diff_history, \"o-\", c=\"b\", alpha=0.5)\n",
    "ax.set_yscale(\"log\")\n",
    "ax.set_title(\"time evolution of $\\delta$\")\n",
    "ax.set_xlabel(\"t\")\n",
    "ax.set_ylabel(\"$\\delta$\")\n",
    "ax.grid()"
   ]
  },
  {
   "cell_type": "markdown",
   "metadata": {},
   "source": [
    "## riboflavin"
   ]
  },
  {
   "cell_type": "code",
   "execution_count": 15,
   "metadata": {
    "scrolled": true
   },
   "outputs": [
    {
     "name": "stdout",
     "output_type": "stream",
     "text": [
      "CPU times: user 40.5 s, sys: 7.86 s, total: 48.4 s\n",
      "Wall time: 25.6 s\n"
     ]
    }
   ],
   "source": [
    "%%time\n",
    "dumping = 1.0\n",
    "tol = 1e-12\n",
    "message=False\n",
    "vamp_solver_ribo = StabilitySelectionVAMPSolver(A_ribo, y_ribo, \n",
    "                                               regularization_strength= lasso_cv_ribo.alpha_ * A_ribo.shape[0] * np.ones(A_ribo.shape[1]), \n",
    "                                               dumping_coefficient=dumping, mu=μ, clip_min=1e-12, clip_max=1e12)\n",
    "\n",
    "hoge = vamp_solver_ribo.solve(max_iteration=100, tolerance=tol, message=message)"
   ]
  },
  {
   "cell_type": "code",
   "execution_count": 16,
   "metadata": {},
   "outputs": [
    {
     "data": {
      "image/png": "[encoded data removed]",
      "text/plain": [
       "<Figure size 432x288 with 1 Axes>"
      ]
     },
     "metadata": {
      "needs_background": "light"
     },
     "output_type": "display_data"
    }
   ],
   "source": [
    "fig = plt.figure()\n",
    "ax = fig.add_subplot(111)\n",
    "ax.plot(vamp_solver_ribo.diff_history, \"o-\", c=\"b\", alpha=0.5)\n",
    "ax.set_yscale(\"log\")\n",
    "ax.set_yscale(\"log\")\n",
    "ax.set_title(\"time evolution of $\\delta$ (riboflavin)\")\n",
    "ax.set_xlabel(\"t\")\n",
    "ax.set_ylabel(\"$\\delta$\")\n",
    "ax.grid()\n",
    "fig.tight_layout()"
   ]
  },
  {
   "cell_type": "markdown",
   "metadata": {},
   "source": [
    "# plot figure"
   ]
  },
  {
   "cell_type": "code",
   "execution_count": 17,
   "metadata": {},
   "outputs": [
    {
     "data": {
      "image/png": "[encoded data removed]",
      "text/plain": [
       "<Figure size 1080x468 with 6 Axes>"
      ]
     },
     "metadata": {
      "needs_background": "light"
     },
     "output_type": "display_data"
    }
   ],
   "source": [
    "fig = plt.figure(figsize=(15, 6.5))\n",
    "ax = fig.add_subplot(231)\n",
    "ax.plot(vamp_solver_dct.x1_hat, vamp_solver_dct.x1_hat, \"-\", c=\"k\")\n",
    "ax.plot(vamp_solver_dct.x1_hat, lasso_solution_array_dct.mean(axis=0), \"o\", c=\"b\", alpha=0.5, ms=9)\n",
    "ax.grid()\n",
    "ax.set_title(\"mean\", fontsize=18)\n",
    "ax.set_xlabel(\"approximate\", fontsize=18)\n",
    "ax.set_ylabel(\"numerical\", fontsize=18)\n",
    "ax.tick_params(labelsize=18)\n",
    "\n",
    "\n",
    "ax = fig.add_subplot(232)\n",
    "ax.plot(vamp_solver_dct.v1x, vamp_solver_dct.v1x, \"-\", c=\"k\")\n",
    "ax.plot(vamp_solver_dct.v1x, lasso_solution_array_dct.var(axis=0), \"o\", c=\"b\", alpha=0.5, ms=9)\n",
    "ax.grid()\n",
    "ax.set_title(\"variance\", fontsize=18)\n",
    "ax.set_xlabel(\"approximate\", fontsize=18)\n",
    "ax.set_ylabel(\"numerical\", fontsize=18)\n",
    "ax.tick_params(labelsize=18)\n",
    "plt.ticklabel_format(style='sci', axis='x', scilimits=(0,0))\n",
    "plt.ticklabel_format(style='sci', axis='y', scilimits=(0,0))\n",
    "\n",
    "\n",
    "ax = fig.add_subplot(233)\n",
    "ax.plot(vamp_solver_dct.chi1x * vamp_solver_dct.q1x_hat, vamp_solver_dct.chi1x * vamp_solver_dct.q1x_hat, \"-\", c=\"k\")\n",
    "ax.plot(vamp_solver_dct.chi1x * vamp_solver_dct.q1x_hat, (lasso_solution_array_dct!=0.0).mean(axis=0), \"o\", c=\"b\", alpha=0.5, ms=9)\n",
    "ax.grid()\n",
    "ax.set_title(\"$\\Pi$\", fontsize=18)\n",
    "ax.set_xlabel(\"approximate\", fontsize=18)\n",
    "ax.set_ylabel(\"numerical\", fontsize=18)\n",
    "ax.tick_params(labelsize=18)\n",
    "\n",
    "# riboflavin\n",
    "ax = fig.add_subplot(234)\n",
    "ax.plot(vamp_solver_ribo.x1_hat, vamp_solver_ribo.x1_hat, \"-\", c=\"k\")\n",
    "ax.plot(vamp_solver_ribo.x1_hat, lasso_solution_array_ribo.mean(axis=0), \"o\", c=\"r\", alpha=1.0, fillstyle=\"none\", ms=9)\n",
    "ax.grid()\n",
    "ax.set_title(\"mean\", fontsize=18)\n",
    "ax.set_xlabel(\"approximate\", fontsize=18)\n",
    "ax.set_ylabel(\"numerical\", fontsize=18)\n",
    "ax.tick_params(labelsize=17)\n",
    "\n",
    "\n",
    "ax = fig.add_subplot(235)\n",
    "ax.plot(vamp_solver_ribo.v1x, vamp_solver_ribo.v1x, \"-\", c=\"k\")\n",
    "ax.plot(vamp_solver_ribo.v1x, lasso_solution_array_ribo.var(axis=0), \"o\", c=\"r\", alpha=1.0, fillstyle=\"none\", ms=9)\n",
    "ax.grid()\n",
    "ax.set_title(\"variance\", fontsize=18)\n",
    "ax.set_xlabel(\"approximate\", fontsize=18)\n",
    "ax.set_ylabel(\"numerical\", fontsize=18)\n",
    "ax.tick_params(labelsize=17)\n",
    "plt.ticklabel_format(style='sci', axis='x', scilimits=(0,0))\n",
    "plt.ticklabel_format(style='sci', axis='y', scilimits=(0,0))\n",
    "\n",
    "\n",
    "ax = fig.add_subplot(236)\n",
    "ax.plot(vamp_solver_ribo.chi1x * vamp_solver_ribo.q1x_hat, vamp_solver_ribo.chi1x * vamp_solver_ribo.q1x_hat, \"-\", c=\"k\")\n",
    "ax.plot(vamp_solver_ribo.chi1x * vamp_solver_ribo.q1x_hat, (lasso_solution_array_ribo!=0.0).mean(axis=0), \"o\", c=\"r\", alpha=1.0, fillstyle=\"none\", ms=9)\n",
    "ax.grid()\n",
    "ax.set_title(\"$\\Pi$\", fontsize=18)\n",
    "ax.set_xlabel(\"approximate\", fontsize=18)\n",
    "ax.set_ylabel(\"numerical\", fontsize=18)\n",
    "ax.tick_params(labelsize=17)\n",
    "\n",
    "fig.tight_layout()"
   ]
  },
  {
   "cell_type": "code",
   "execution_count": 18,
   "metadata": {},
   "outputs": [],
   "source": [
    "fig.savefig(\"./accuracy.png\", dpi=100, transparent=False)\n",
    "fig.savefig(\"./accuracy_transparent.png\", dpi=100, tranceparent=True)"
   ]
  }
 ],
 "metadata": {
  "kernelspec": {
   "display_name": "Python 3",
   "language": "python",
   "name": "python3"
  },
  "language_info": {
   "codemirror_mode": {
    "name": "ipython",
    "version": 3
   },
   "file_extension": ".py",
   "mimetype": "text/x-python",
   "name": "python",
   "nbconvert_exporter": "python",
   "pygments_lexer": "ipython3",
   "version": "3.6.7"
  },
  "toc": {
   "base_numbering": 1,
   "nav_menu": {},
   "number_sections": true,
   "sideBar": true,
   "skip_h1_title": false,
   "title_cell": "Table of Contents",
   "title_sidebar": "Contents",
   "toc_cell": false,
   "toc_position": {},
   "toc_section_display": true,
   "toc_window_display": false
  }
 },
 "nbformat": 4,
 "nbformat_minor": 2
}
